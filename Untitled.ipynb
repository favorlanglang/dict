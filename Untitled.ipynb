{
 "cells": [
  {
   "cell_type": "code",
   "execution_count": 3,
   "metadata": {},
   "outputs": [],
   "source": [
    "import pandas as pd"
   ]
  },
  {
   "cell_type": "code",
   "execution_count": 13,
   "metadata": {},
   "outputs": [],
   "source": [
    "from main import import_from_gsheet\n",
    "\n",
    "favorlang = import_from_gsheet()"
   ]
  },
  {
   "cell_type": "code",
   "execution_count": 25,
   "metadata": {},
   "outputs": [],
   "source": [
    "lemma = favorlang['詞條'].values"
   ]
  },
  {
   "cell_type": "code",
   "execution_count": 35,
   "metadata": {},
   "outputs": [
    {
     "data": {
      "text/plain": [
       "3052"
      ]
     },
     "execution_count": 35,
     "metadata": {},
     "output_type": "execute_result"
    }
   ],
   "source": [
    "len(favorlang['詞條'].values)"
   ]
  },
  {
   "cell_type": "code",
   "execution_count": 27,
   "metadata": {},
   "outputs": [],
   "source": [
    "lemma = [w.lower().strip() for w in lemma if not ( set(' ,*').intersection(set(w.lower().strip())) ) ]"
   ]
  },
  {
   "cell_type": "code",
   "execution_count": 34,
   "metadata": {},
   "outputs": [
    {
     "data": {
      "text/plain": [
       "['aûrras',\n",
       " 'ailijt',\n",
       " 'aomo',\n",
       " 'ai',\n",
       " 'aiag',\n",
       " 'aicho-ech',\n",
       " 'aisênnas',\n",
       " 'aissillak',\n",
       " 'aito-ilo',\n",
       " 'aû',\n",
       " 'aûbo',\n",
       " 'aûchad',\n",
       " 'aûdik',\n",
       " 'aû-kor',\n",
       " 'aûroge',\n",
       " 'aûa-tsi',\n",
       " 'aûsa',\n",
       " 'aûseán',\n",
       " 'aûsoan',\n",
       " 'aûtat',\n",
       " 'eeb',\n",
       " 'eicham-an',\n",
       " 'eichaman',\n",
       " 'iel-iel',\n",
       " 'iem-dan',\n",
       " 'ioa',\n",
       " 'oéba',\n",
       " 'oebásan',\n",
       " 'oedán',\n",
       " 'oéla',\n",
       " 'oéno',\n",
       " 'oeraas',\n",
       " 'oetás',\n",
       " 'oob',\n",
       " 'oóg',\n",
       " 'oos',\n",
       " 'oót',\n",
       " 'aä',\n",
       " 'aeen',\n",
       " 'ai',\n",
       " 'aicho',\n",
       " 'airien',\n",
       " 'airoòssen',\n",
       " 'aisennas',\n",
       " 'aubo',\n",
       " 'auchad',\n",
       " 'audik',\n",
       " 'aukat',\n",
       " 'aukor',\n",
       " 'auzzi',\n",
       " 'aúsean',\n",
       " 'autat',\n",
       " 'eet',\n",
       " 'oela',\n",
       " 'oetas',\n",
       " 'oeno',\n",
       " 'oeraas',\n",
       " 'oog',\n",
       " 'oos',\n",
       " 'oosso',\n",
       " 'oot']"
      ]
     },
     "execution_count": 34,
     "metadata": {},
     "output_type": "execute_result"
    }
   ],
   "source": [
    "import re\n",
    "pat = re.compile(\"[aeiouûóúëüâêôäàòéáí][aeiouûóúëüâêôäàòéáí]\")\n",
    "[l for l in filter(pat.match, lemma)]\n",
    "\n",
    "#lemma"
   ]
  },
  {
   "cell_type": "code",
   "execution_count": 18,
   "metadata": {},
   "outputs": [
    {
     "data": {
      "text/plain": [
       "{'a', 'b', 'c'}"
      ]
     },
     "execution_count": 18,
     "metadata": {},
     "output_type": "execute_result"
    }
   ],
   "source": [
    "set('abc')"
   ]
  },
  {
   "cell_type": "code",
   "execution_count": 19,
   "metadata": {},
   "outputs": [
    {
     "data": {
      "text/plain": [
       "{' ', '*', ','}"
      ]
     },
     "execution_count": 19,
     "metadata": {},
     "output_type": "execute_result"
    }
   ],
   "source": [
    "set(' ,*')"
   ]
  },
  {
   "cell_type": "code",
   "execution_count": null,
   "metadata": {},
   "outputs": [],
   "source": []
  }
 ],
 "metadata": {
  "kernelspec": {
   "display_name": "Python 3",
   "language": "python",
   "name": "python3"
  },
  "language_info": {
   "codemirror_mode": {
    "name": "ipython",
    "version": 3
   },
   "file_extension": ".py",
   "mimetype": "text/x-python",
   "name": "python",
   "nbconvert_exporter": "python",
   "pygments_lexer": "ipython3",
   "version": "3.7.1"
  }
 },
 "nbformat": 4,
 "nbformat_minor": 2
}
