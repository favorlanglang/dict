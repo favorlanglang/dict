{
 "cells": [
  {
   "cell_type": "code",
   "execution_count": 10,
   "metadata": {},
   "outputs": [],
   "source": [
    "import pandas as pd\n",
    "import numpy as np\n",
    "import os\n",
    "import random\n",
    "\n",
    "random.seed(2020)\n",
    "\n",
    "#------------- Sheet url ---------------#\n",
    "# https://docs.google.com/spreadsheets/d/186qohB4p9_ewDqggE547E92bxYTILKuSm26PWljVInk/edit#gid={gid}\n",
    "\n",
    "gids = ['679511153', '1931724449', '151044886', '1128079217', '1431072574', '866770763', '1207822401', '396391367', '1345694829', '939992016', '971568665', '1842077571']\n",
    "pages = ['妤蓁_13-41', '曉鈞_42-70', '容榕_71-99', '永賦_100-128', '庭瑋_129-157', '飛揚_158-186', '俊宏_187-215', '瑞恩_216-244', '凱弘_247-273', '晴方_274-302', '莊勻_303-331', '峻維_326-360']\n",
    "url = \"https://docs.google.com/spreadsheets/d/186qohB4p9_ewDqggE547E92bxYTILKuSm26PWljVInk/export?format=csv&gid={gid}\"\n",
    "\n",
    "dfs = []\n",
    "for gid, sheet in zip(gids, pages):\n",
    "    df = pd.read_csv(url.format(gid=gid), dtype='str').dropna(subset=[\"詞條\", \"釋義\"]).replace(np.nan, '')\n",
    "    df['轉寫者'] = sheet\n",
    "    dfs.append(df)\n",
    "\n",
    "merged_df = pd.concat(dfs, sort=False, ignore_index=True)\n",
    "merged_df.to_csv(\"favorlang_dict.csv\", index=False)"
   ]
  },
  {
   "cell_type": "code",
   "execution_count": 23,
   "metadata": {},
   "outputs": [],
   "source": [
    "from main import createItem\n",
    "#-------------- Config -----------------#\n",
    "title = \"Favorlang Dictionary\"\n",
    "html_file = \"docs/index.html\"\n",
    "\n",
    "#-------- Write to Markdown --------------#\n",
    "html_template = \"\"\"<!DOCTYPE html>\n",
    "<html lang=\"en\">\n",
    "<head>\n",
    "    <meta charset=\"UTF-8\">\n",
    "    <meta name=\"viewport\" content=\"width=device-width, initial-scale=1.0\">\n",
    "    <meta http-equiv=\"X-UA-Compatible\" content=\"ie=edge\">\n",
    "    <link rel=\"stylesheet\" href=\"style.css\">\n",
    "    <title>{title}</title>\n",
    "</head>\n",
    "    <body>\n",
    "        <header>\n",
    "            <ul>\n",
    "                <li>{title}</li>\n",
    "                <li></li>\n",
    "                <li><a href=\"./favorlang_dict_transcribed.pdf\">Download</a></li>\n",
    "            </ul>\n",
    "        </header>\n",
    "        \n",
    "        <ul class=\"toc\">{toc}</ul>\n",
    "        \n",
    "        <div class=\"dict\">\n",
    "            {dictionary}\n",
    "        </div>\n",
    "    </body>\n",
    "</html>\n",
    "\"\"\"\n",
    "\n",
    "# Write dict items\n",
    "toc_id = []\n",
    "lemma_id = []\n",
    "dict_string = ''\n",
    "lemma = \"1\"\n",
    "for idx, row in merged_df.iterrows():\n",
    "    \n",
    "    # Check change of alphabet\n",
    "    if row['詞條'].strip()[0].lower() != lemma[0].lower():\n",
    "        alphabet = row['詞條'].strip()[0].lower()\n",
    "        item_id = f\"{alphabet}-first\"\n",
    "        if item_id in toc_id or item_id in [\"*-first\", \"_-first\"]:\n",
    "            item_id = None\n",
    "        else:\n",
    "            toc_id.append(item_id)\n",
    "    else:\n",
    "        item_id = None\n",
    "    # Write to HTML\n",
    "    lid = f\"{row['詞條'].strip()[0].lower()}\" + f\"_{str(random.random())[2:7]}\"\n",
    "    item = createItem(row['詞條'].strip(), row['頁數'].strip(), row['中文'].strip(), row['釋義'].strip(), item_id=item_id, lemma_id=lid)\n",
    "    dict_string += item\n",
    "    # Record alphabet data for next loop\n",
    "    lemma = row['詞條'].strip()\n",
    "\n",
    "# Write dict toc\n",
    "li = [\"<li><a href='#\" + id_ + f\"'>{id_[0].upper()}</a></li>\" for id_ in toc_id]\n",
    "    \n",
    "# Write html template\n",
    "html = html_template.format(title=title,\n",
    "                            dictionary=dict_string,\n",
    "                            toc=''.join(li))    \n",
    "    \n",
    "with open(html_file, 'w', encoding=\"utf-8\") as f:\n",
    "    f.write(html)\n",
    "\n",
    "#os.system(f\"./pandoc/pandoc -s -f markdown -t html {md_file} -o {compiled_html} --css={css_path}\")  \n",
    "# chromium-browser --headless --disable-gpu --print-to-pdf=favorlang.pdf --run-all-compositor-stages-before-draw --displayHeaderFooter=true --headerTemplate='' --footerTemplate='<span class=pageNumber></span>' ./favorlang.html\n"
   ]
  },
  {
   "cell_type": "code",
   "execution_count": 24,
   "metadata": {},
   "outputs": [
    {
     "data": {
      "text/plain": [
       "0"
      ]
     },
     "execution_count": 24,
     "metadata": {},
     "output_type": "execute_result"
    }
   ],
   "source": [
    "#--------- Print to PDF with Chrome ---------#\n",
    "outFile = 'docs/favorlang_dict_transcribed.pdf'\n",
    "footerTemplate = \"<div class='page-footer' style='width:100%; text-align:center; font-size:12px;'><span class='pageNumber'></span> of <span class='totalPages'></span></div>\"\n",
    "os.system(f'chromium-browser --headless --disable-gpu --print-to-pdf={outFile} --run-all-compositor-stages-before-draw {html_file}')"
   ]
  },
  {
   "cell_type": "code",
   "execution_count": null,
   "metadata": {},
   "outputs": [],
   "source": []
  }
 ],
 "metadata": {
  "kernelspec": {
   "display_name": "Python 3",
   "language": "python",
   "name": "python3"
  },
  "language_info": {
   "codemirror_mode": {
    "name": "ipython",
    "version": 3
   },
   "file_extension": ".py",
   "mimetype": "text/x-python",
   "name": "python",
   "nbconvert_exporter": "python",
   "pygments_lexer": "ipython3",
   "version": "3.7.1"
  }
 },
 "nbformat": 4,
 "nbformat_minor": 2
}
